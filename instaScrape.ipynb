{
 "metadata": {
  "language_info": {
   "codemirror_mode": {
    "name": "ipython",
    "version": 3
   },
   "file_extension": ".py",
   "mimetype": "text/x-python",
   "name": "python",
   "nbconvert_exporter": "python",
   "pygments_lexer": "ipython3",
   "version": "3.9.1"
  },
  "orig_nbformat": 2,
  "kernelspec": {
   "name": "python391jvsc74a57bd0613c3f6bc560f07d54fef2330cd01f7975c11513fd270c588855f409e6297dcf",
   "display_name": "Python 3.9.1 64-bit ('virtualenv': venv)"
  },
  "metadata": {
   "interpreter": {
    "hash": "613c3f6bc560f07d54fef2330cd01f7975c11513fd270c588855f409e6297dcf"
   }
  }
 },
 "nbformat": 4,
 "nbformat_minor": 2,
 "cells": [
  {
   "cell_type": "code",
   "execution_count": null,
   "metadata": {},
   "outputs": [],
   "source": [
    "from time import sleep\n",
    "from selenium import webdriver\n",
    "from selenium.webdriver.common.keys import Keys"
   ]
  },
  {
   "cell_type": "code",
   "execution_count": null,
   "metadata": {},
   "outputs": [],
   "source": [
    "browser = webdriver.Chrome(r\"link to chromedriver exe file\")\n",
    "browser.implicitly_wait(5) # seconds\n",
    "browser.get('https://www.instagram.com/')"
   ]
  },
  {
   "cell_type": "code",
   "execution_count": null,
   "metadata": {},
   "outputs": [],
   "source": [
    "username_input = browser.find_element_by_name('username')\n",
    "password_input = browser.find_element_by_name('password')\n",
    "\n",
    "username_input.send_keys(username)\n",
    "password_input.send_keys(password)\n",
    "\n",
    "login = browser.find_element_by_css_selector('button[type=submit]').click()\n",
    "try:\n",
    "    save_info_btn =browser.find_element_by_xpath(\"//div[text()='Save Your Login Info?']\")\n",
    "\n",
    "    if save_info_btn:\n",
    "        browser.find_element_by_xpath(\"//button[text()='Not Now']\").click()\n",
    "\n",
    "    notif_btn = browser.find_element_by_xpath(\"//h2[text()='Turn on Notifications']\")\n",
    "\n",
    "    if notif_btn:\n",
    "        browser.find_element_by_xpath(\"//button[text()='Not Now']\").click()\n",
    "except Exception as e: \n",
    "    print(e)"
   ]
  },
  {
   "cell_type": "code",
   "execution_count": null,
   "metadata": {},
   "outputs": [],
   "source": [
    "explore = browser.find_element_by_xpath(\"//*[@id='react-root']/section/nav/div[2]/div/div/div[3]/div/div[3]/a\")\n",
    "explore.click()"
   ]
  },
  {
   "cell_type": "code",
   "execution_count": null,
   "metadata": {},
   "outputs": [],
   "source": [
    "from selenium.webdriver.support.ui import WebDriverWait\n",
    "wait = WebDriverWait(browser, 30)"
   ]
  },
  {
   "cell_type": "code",
   "execution_count": null,
   "metadata": {},
   "outputs": [],
   "source": [
    "from selenium.webdriver.support import expected_conditions as EC\n",
    "from selenium.webdriver.common.by import By"
   ]
  },
  {
   "cell_type": "code",
   "execution_count": null,
   "metadata": {},
   "outputs": [],
   "source": [
    "insta_data = []\n",
    "\n",
    "browser.refresh()\n",
    "sleep(4)\n",
    "\n",
    "for i in range(1,4):\n",
    "    for j in range(1,4):\n",
    "\n",
    "        image_field = wait.until(EC.element_to_be_clickable((By.XPATH, f\"//*[@id='react-root']/section/main/div/div[1]/div/div[{i}]/div[{j}]/div/a\"))).click() #click on image\n",
    "   \n",
    "        name_field = wait.until(EC.element_to_be_clickable((By.XPATH, \"/html/body/div[5]/div[2]/div/article/header/div[2]/div[1]/div/span/a\"))) # go to account page\n",
    "        name_field.click()\n",
    "        try:\n",
    "            username = browser.find_element_by_xpath(\"//*[@id='react-root']/section/main/div/header/section/div[1]/h2\").text\n",
    "        except:\n",
    "            browser.execute_script(\"window.history.go(-1)\")\n",
    "            browser.execute_script(\"window.history.go(-1)\")\n",
    "            continue\n",
    "\n",
    "        posts = browser.find_element_by_xpath(\"//*[@id='react-root']/section/main/div/header/section/ul/li[1]/span/span\").text\n",
    "        followers = browser.find_element_by_xpath(\"//*[@id='react-root']/section/main/div/header/section/ul/li[2]/a/span\").text\n",
    "        try:\n",
    "\n",
    "            following = browser.find_element_by_xpath(\"//*[@id='react-root']/section/main/div/header/section/ul/li[3]/a/span\").text\n",
    "        except:\n",
    "            following = 0\n",
    "        try:\n",
    "            acc_type = browser.find_element_by_xpath(\"//*[@id='react-root']/section/main/div/header/section/div[2]/div/span\").text\n",
    "        except:\n",
    "            acc_type = 'None'\n",
    "        print(username, posts, followers, following, acc_type)\n",
    "        insta_data.append((username, posts, followers, following, acc_type))\n",
    "\n",
    "        browser.execute_script(\"window.history.go(-1)\")\n",
    "        browser.execute_script(\"window.history.go(-1)\")"
   ]
  },
  {
   "cell_type": "code",
   "execution_count": null,
   "metadata": {
    "tags": [
     "outputPrepend"
    ]
   },
   "outputs": [],
   "source": [
    "print(insta_data)\n"
   ]
  },
  {
   "cell_type": "code",
   "execution_count": null,
   "metadata": {},
   "outputs": [],
   "source": [
    "import pandas as pd"
   ]
  },
  {
   "cell_type": "code",
   "execution_count": null,
   "metadata": {},
   "outputs": [],
   "source": [
    "df = pd.DataFrame(insta_data, columns=['Username','Posts','Followers','Following','Account Type'])"
   ]
  },
  {
   "cell_type": "code",
   "execution_count": null,
   "metadata": {},
   "outputs": [],
   "source": [
    "df"
   ]
  },
  {
   "cell_type": "code",
   "execution_count": null,
   "metadata": {},
   "outputs": [],
   "source": [
    "len(df.Username.unique())"
   ]
  },
  {
   "cell_type": "code",
   "execution_count": null,
   "metadata": {},
   "outputs": [],
   "source": [
    "df.drop_duplicates(subset='Username', inplace=True)"
   ]
  },
  {
   "cell_type": "code",
   "execution_count": null,
   "metadata": {},
   "outputs": [],
   "source": [
    "len(df.Username.unique())"
   ]
  },
  {
   "cell_type": "code",
   "execution_count": null,
   "metadata": {},
   "outputs": [],
   "source": [
    "df = df.reset_index()\n",
    "df.index += 1\n",
    "df"
   ]
  },
  {
   "cell_type": "code",
   "execution_count": null,
   "metadata": {},
   "outputs": [],
   "source": [
    "df.to_csv(r\"link to save your csv file\", index = False, header = True)"
   ]
  },
  {
   "cell_type": "code",
   "execution_count": null,
   "metadata": {},
   "outputs": [],
   "source": []
  }
 ]
}